{
 "cells": [
  {
   "cell_type": "code",
   "execution_count": 1,
   "metadata": {},
   "outputs": [],
   "source": [
    "import pandas as pd\n",
    "\n",
    "# Read the dataset into a Pandas DataFrame\n",
    "df = pd.read_csv('trainset.csv')"
   ]
  },
  {
   "cell_type": "code",
   "execution_count": 2,
   "metadata": {},
   "outputs": [
    {
     "data": {
      "text/html": [
       "<div>\n",
       "<style scoped>\n",
       "    .dataframe tbody tr th:only-of-type {\n",
       "        vertical-align: middle;\n",
       "    }\n",
       "\n",
       "    .dataframe tbody tr th {\n",
       "        vertical-align: top;\n",
       "    }\n",
       "\n",
       "    .dataframe thead th {\n",
       "        text-align: right;\n",
       "    }\n",
       "</style>\n",
       "<table border=\"1\" class=\"dataframe\">\n",
       "  <thead>\n",
       "    <tr style=\"text-align: right;\">\n",
       "      <th></th>\n",
       "      <th>Unnamed: 0</th>\n",
       "      <th>username</th>\n",
       "      <th>description</th>\n",
       "      <th>location</th>\n",
       "      <th>following</th>\n",
       "      <th>followers</th>\n",
       "      <th>totaltweets</th>\n",
       "      <th>retweetcount</th>\n",
       "      <th>text</th>\n",
       "      <th>hashtags</th>\n",
       "      <th>Type</th>\n",
       "    </tr>\n",
       "  </thead>\n",
       "  <tbody>\n",
       "    <tr>\n",
       "      <th>0</th>\n",
       "      <td>0</td>\n",
       "      <td>mimirobles57</td>\n",
       "      <td>Ex military, Veteran, Daughter, Mother and Gra...</td>\n",
       "      <td>Dorado</td>\n",
       "      <td>539</td>\n",
       "      <td>349</td>\n",
       "      <td>40162</td>\n",
       "      <td>5</td>\n",
       "      <td>Reminder , since y’all need it. Trust the scie...</td>\n",
       "      <td>['SupremeCourtIsCompromised', 'RoeVsWade', 'Ro...</td>\n",
       "      <td>Support</td>\n",
       "    </tr>\n",
       "    <tr>\n",
       "      <th>1</th>\n",
       "      <td>1</td>\n",
       "      <td>Hosainy3zoz</td>\n",
       "      <td>NaN</td>\n",
       "      <td>NaN</td>\n",
       "      <td>10</td>\n",
       "      <td>0</td>\n",
       "      <td>556</td>\n",
       "      <td>0</td>\n",
       "      <td>#AbortionBan only argument the feminists have ...</td>\n",
       "      <td>['AbortionBan']</td>\n",
       "      <td>Support</td>\n",
       "    </tr>\n",
       "    <tr>\n",
       "      <th>2</th>\n",
       "      <td>2</td>\n",
       "      <td>pariseffingcool</td>\n",
       "      <td>I just repost tweets</td>\n",
       "      <td>she/her | minor</td>\n",
       "      <td>212</td>\n",
       "      <td>13</td>\n",
       "      <td>484</td>\n",
       "      <td>592</td>\n",
       "      <td>Some horrible shit is going on!\\n\\n#AbortionRi...</td>\n",
       "      <td>['AbortionRightsAreHumanRights', 'AbortionBan'...</td>\n",
       "      <td>Doesn't Support</td>\n",
       "    </tr>\n",
       "    <tr>\n",
       "      <th>3</th>\n",
       "      <td>3</td>\n",
       "      <td>ladybugdink</td>\n",
       "      <td>I am a 50 plus African American woman, who is ...</td>\n",
       "      <td>Baltimore Md</td>\n",
       "      <td>1949</td>\n",
       "      <td>1305</td>\n",
       "      <td>61674</td>\n",
       "      <td>190</td>\n",
       "      <td>🔥So fvckng tired of the rhetoric around aborti...</td>\n",
       "      <td>[]</td>\n",
       "      <td>Doesn't Support</td>\n",
       "    </tr>\n",
       "    <tr>\n",
       "      <th>4</th>\n",
       "      <td>4</td>\n",
       "      <td>jassin_dewa</td>\n",
       "      <td>Funny Sarcastic T-Shirt For Women- I'm Actuall...</td>\n",
       "      <td>United States</td>\n",
       "      <td>18</td>\n",
       "      <td>3</td>\n",
       "      <td>161</td>\n",
       "      <td>0</td>\n",
       "      <td>Pro Roe 1973 t shirt\\nYou can get it here http...</td>\n",
       "      <td>['SupremeCourt', 'SupremeCourtIsCompromised', ...</td>\n",
       "      <td>Support</td>\n",
       "    </tr>\n",
       "  </tbody>\n",
       "</table>\n",
       "</div>"
      ],
      "text/plain": [
       "   Unnamed: 0         username  \\\n",
       "0           0     mimirobles57   \n",
       "1           1      Hosainy3zoz   \n",
       "2           2  pariseffingcool   \n",
       "3           3      ladybugdink   \n",
       "4           4      jassin_dewa   \n",
       "\n",
       "                                         description         location  \\\n",
       "0  Ex military, Veteran, Daughter, Mother and Gra...           Dorado   \n",
       "1                                                NaN              NaN   \n",
       "2                               I just repost tweets  she/her | minor   \n",
       "3  I am a 50 plus African American woman, who is ...    Baltimore Md    \n",
       "4  Funny Sarcastic T-Shirt For Women- I'm Actuall...    United States   \n",
       "\n",
       "   following  followers  totaltweets  retweetcount  \\\n",
       "0        539        349        40162             5   \n",
       "1         10          0          556             0   \n",
       "2        212         13          484           592   \n",
       "3       1949       1305        61674           190   \n",
       "4         18          3          161             0   \n",
       "\n",
       "                                                text  \\\n",
       "0  Reminder , since y’all need it. Trust the scie...   \n",
       "1  #AbortionBan only argument the feminists have ...   \n",
       "2  Some horrible shit is going on!\\n\\n#AbortionRi...   \n",
       "3  🔥So fvckng tired of the rhetoric around aborti...   \n",
       "4  Pro Roe 1973 t shirt\\nYou can get it here http...   \n",
       "\n",
       "                                            hashtags             Type  \n",
       "0  ['SupremeCourtIsCompromised', 'RoeVsWade', 'Ro...          Support  \n",
       "1                                    ['AbortionBan']          Support  \n",
       "2  ['AbortionRightsAreHumanRights', 'AbortionBan'...  Doesn't Support  \n",
       "3                                                 []  Doesn't Support  \n",
       "4  ['SupremeCourt', 'SupremeCourtIsCompromised', ...          Support  "
      ]
     },
     "execution_count": 2,
     "metadata": {},
     "output_type": "execute_result"
    }
   ],
   "source": [
    "df.head()"
   ]
  },
  {
   "cell_type": "code",
   "execution_count": 7,
   "metadata": {},
   "outputs": [],
   "source": [
    "import matplotlib.pyplot as plt\n",
    "\n",
    "%matplotlib qt"
   ]
  },
  {
   "cell_type": "code",
   "execution_count": 4,
   "metadata": {},
   "outputs": [
    {
     "data": {
      "image/png": "[encoded data removed]",
      "text/plain": [
       "<Figure size 432x288 with 1 Axes>"
      ]
     },
     "metadata": {
      "needs_background": "light"
     },
     "output_type": "display_data"
    },
    {
     "data": {
      "text/plain": [
       "<Figure size 432x288 with 0 Axes>"
      ]
     },
     "metadata": {},
     "output_type": "display_data"
    }
   ],
   "source": [
    "support_counts = df['Type'].value_counts()\n",
    "\n",
    "# Plot the distribution of support categories\n",
    "plt.bar(support_counts.index, support_counts.values)\n",
    "plt.title('Support')\n",
    "plt.show()\n",
    "\n",
    "# plt.savefig('support.jpg', format='jpeg')"
   ]
  },
  {
   "cell_type": "code",
   "execution_count": 6,
   "metadata": {},
   "outputs": [
    {
     "data": {
      "image/png": "[encoded data removed]",
      "text/plain": [
       "<Figure size 432x288 with 1 Axes>"
      ]
     },
     "metadata": {
      "needs_background": "light"
     },
     "output_type": "display_data"
    },
    {
     "data": {
      "text/plain": [
       "<Figure size 432x288 with 0 Axes>"
      ]
     },
     "metadata": {},
     "output_type": "display_data"
    }
   ],
   "source": [
    "from collections import Counter\n",
    "import ast\n",
    "\n",
    "# Concatenate all hashtags into a single string\n",
    "all_hashtags = []\n",
    "for hashtags_list in df['hashtags']:\n",
    "    # Extend the all_words list with the individual words in each list\n",
    "    result_list = ast.literal_eval(hashtags_list)\n",
    "    for elem in result_list:\n",
    "        all_hashtags.append(elem)\n",
    "\n",
    "# Count the frequency of each word\n",
    "word_counts = Counter(all_hashtags)\n",
    "\n",
    "# Get the most common words and their frequencies\n",
    "most_common_words = word_counts.most_common(10)\n",
    "most_common_words = dict(most_common_words)\n",
    "modified_dict = {'#' + key: value for key, value in most_common_words.items()}\n",
    "\n",
    "# Plot the most frequent words\n",
    "plt.bar(modified_dict.keys(), modified_dict.values())\n",
    "\n",
    "plt.title('Most Frequent Hashtags')\n",
    "plt.xticks(rotation='vertical')\n",
    "plt.tight_layout()\n",
    "plt.show()\n",
    "\n",
    "# plt.savefig('most_frequent_hashtags.jpg', format='jpeg')"
   ]
  },
  {
   "cell_type": "code",
   "execution_count": 9,
   "metadata": {},
   "outputs": [],
   "source": [
    "from wordcloud import WordCloud\n",
    "\n",
    "# Get the most common words and their frequencies\n",
    "most_common_words = word_counts.most_common(1000)\n",
    "most_common_words = dict(most_common_words)\n",
    "modified_dict = {'#' + key: value for key, value in most_common_words.items()}\n",
    "\n",
    "wordcloud = WordCloud(colormap=\"OrRd_r\",width=700,height=350)\n",
    "\n",
    "# Generate the word cloud\n",
    "wordcloud.generate_from_frequencies(modified_dict)\n",
    "fig=plt.figure(figsize=(12,18))\n",
    "# Plot the word cloud\n",
    "plt.imshow(wordcloud, interpolation='bilinear')\n",
    "plt.axis('off')\n",
    "plt.show()\n",
    "\n",
    "# plt.savefig('wordcloud.jpg', format='jpeg')"
   ]
  }
 ],
 "metadata": {
  "kernelspec": {
   "display_name": "Python 3 (ipykernel)",
   "language": "python",
   "name": "python3"
  },
  "language_info": {
   "codemirror_mode": {
    "name": "ipython",
    "version": 3
   },
   "file_extension": ".py",
   "mimetype": "text/x-python",
   "name": "python",
   "nbconvert_exporter": "python",
   "pygments_lexer": "ipython3",
   "version": "3.8.2"
  },
  "orig_nbformat": 4
 },
 "nbformat": 4,
 "nbformat_minor": 2
}
